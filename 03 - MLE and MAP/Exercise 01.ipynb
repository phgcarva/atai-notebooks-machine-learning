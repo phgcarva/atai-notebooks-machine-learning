{
 "cells": [
  {
   "cell_type": "markdown",
   "metadata": {},
   "source": [
    "# Exercise 01\n",
    "\n",
    "1) Plot the binomial estimated by using frequency histograms.\n",
    "\n",
    "First, we must store the frequencies given in the exercise in a data structure. We will make it a list of frequencies, which then we will transform into a list of occurrences."
   ]
  },
  {
   "cell_type": "code",
   "execution_count": 1,
   "metadata": {
    "collapsed": true
   },
   "outputs": [],
   "source": [
    "import numpy as np\n",
    "import scipy as sp\n",
    "import scipy.stats as stats\n",
    "import math\n",
    "from matplotlib import pyplot as plt\n",
    "import random"
   ]
  },
  {
   "cell_type": "code",
   "execution_count": 2,
   "metadata": {
    "collapsed": false
   },
   "outputs": [
    {
     "data": {
      "text/plain": [
       "50"
      ]
     },
     "execution_count": 2,
     "metadata": {},
     "output_type": "execute_result"
    }
   ],
   "source": [
    "freqs = [6, 10, 14, 13, 6, 1]\n",
    "\n",
    "occurrences = []\n",
    "for i, freq in enumerate(freqs):\n",
    "    for occ in range(freq):\n",
    "        occurrences.append(i)\n",
    "\n",
    "random.shuffle(occurrences)\n",
    "len(occurrences)"
   ]
  },
  {
   "cell_type": "markdown",
   "metadata": {},
   "source": [
    "Now, we must plot these occurrences"
   ]
  },
  {
   "cell_type": "code",
   "execution_count": 3,
   "metadata": {
    "collapsed": false
   },
   "outputs": [
    {
     "data": {
      "image/png": "[encoded data removed]",
      "text/plain": [
       "<matplotlib.figure.Figure at 0x7fa6faeec080>"
      ]
     },
     "metadata": {},
     "output_type": "display_data"
    }
   ],
   "source": [
    "plt.hist(occurrences)\n",
    "plt.xlabel(\"m\")\n",
    "plt.ylabel(\"frequencies\")\n",
    "plt.show()"
   ]
  },
  {
   "cell_type": "markdown",
   "metadata": {},
   "source": [
    "2) Calculate the maximum likelihood estimate of $\\mu$ and plot the resulting MLE Distribution.\n",
    "\n",
    "Here, our random variable $m$ is the number of successes obtained from $N$ bernoulli trials. This number is obtained from a binomial distribution with $N = 5$ and success parameter $\\mu$ which we want to estimate through MLE. We have a dataset $D$ of 50 observations $m_k$, each one giving us a value of m. Since each value of $m_k$ is actually composed by $5$ bernoulli trials, in the dataset $D$ we have $5*50 = 250$ independent bernoulli trials. Since $$\\mu_{ML} = \\frac{M}{T}$$ where $M$ is the total number of successes in the dataset and $T$ is the total number of independent bernoulli trials, we can write a function that computes the best value of $\\mu$ as follows:"
   ]
  },
  {
   "cell_type": "code",
   "execution_count": 4,
   "metadata": {
    "collapsed": false
   },
   "outputs": [
    {
     "data": {
      "text/plain": [
       "0.424"
      ]
     },
     "execution_count": 4,
     "metadata": {},
     "output_type": "execute_result"
    }
   ],
   "source": [
    "def mle(data, N, least=0):\n",
    "    '''\n",
    "    data: list, a list of values for the random variable m (that says how many successes were obtained in N bernoulli trials)\n",
    "    N: int, number of trials per entry in the dataset.\n",
    "    least: int, Takes into account only successes with m >= least\n",
    "    '''\n",
    "    total_bernoulli_trials = N*len(data)\n",
    "    successes = sum([x for x in data if x>= least])\n",
    "    return successes/total_bernoulli_trials\n",
    "\n",
    "mle(occurrences, 5)"
   ]
  },
  {
   "cell_type": "markdown",
   "metadata": {},
   "source": [
    "So the value of $\\mu$ estimated from $D$ is $0.424$. The distribution is the following"
   ]
  },
  {
   "cell_type": "code",
   "execution_count": 5,
   "metadata": {
    "collapsed": false
   },
   "outputs": [
    {
     "data": {
      "image/png": "[encoded data removed]",
      "text/plain": [
       "<matplotlib.figure.Figure at 0x7fa6fae62668>"
      ]
     },
     "metadata": {},
     "output_type": "display_data"
    }
   ],
   "source": [
    "data = [np.random.binomial(5,0.424) for _ in range(200)]\n",
    "weights = np.ones_like(data)/len(data)\n",
    "plt.hist(data, weights=weights)\n",
    "plt.show()"
   ]
  },
  {
   "cell_type": "markdown",
   "metadata": {},
   "source": [
    "3) What is the maximum likelihood estimate of $P(m \\geq 3)$?\n",
    "\n",
    "In this case, we need to take into account only the successes that were obtained with $m \\geq 3$, then:"
   ]
  },
  {
   "cell_type": "code",
   "execution_count": 6,
   "metadata": {
    "collapsed": false
   },
   "outputs": [
    {
     "data": {
      "text/plain": [
       "0.272"
      ]
     },
     "execution_count": 6,
     "metadata": {},
     "output_type": "execute_result"
    }
   ],
   "source": [
    "mle(occurrences, 5, least=3)"
   ]
  },
  {
   "cell_type": "markdown",
   "metadata": {},
   "source": [
    "4) Plot the prior distribution of $\\mu$\n",
    "\n",
    "The prior distribution of $mu$ is $$Pr(\\mu \\vert a=2, b=2) = \\frac{\\Gamma(a+b)}{\\Gamma(a)\\Gamma(b)}\\mu^{a-1}(1-\\mu)^{b-1}$$ which is a beta distribtion."
   ]
  },
  {
   "cell_type": "code",
   "execution_count": 7,
   "metadata": {
    "collapsed": false
   },
   "outputs": [
    {
     "data": {
      "image/png": "[encoded data removed]",
      "text/plain": [
       "<matplotlib.figure.Figure at 0x7fa6cc73f390>"
      ]
     },
     "metadata": {},
     "output_type": "display_data"
    }
   ],
   "source": [
    "plt.plot([stats.beta.pdf(x/100,2,2) for x in range(100)])\n",
    "plt.show()"
   ]
  },
  {
   "cell_type": "markdown",
   "metadata": {},
   "source": [
    "5) Write and plot the posterior distribution of $\\mu$\n",
    "\n",
    "The posterior distribution of $\\mu$, is a product of the Prior and the Likelihood functions, resulting in $$Pos(\\mu \\vert a=2, b=2) = \\frac{\\Gamma(a + m + b + l)}{\\Gamma(a + m)\\Gamma(b + l)}\\mu^{m + a - 1}(1-\\mu)^{l + b - 1}.$$ The distribution will be"
   ]
  },
  {
   "cell_type": "code",
   "execution_count": 8,
   "metadata": {
    "collapsed": false
   },
   "outputs": [
    {
     "data": {
      "image/png": "[encoded data removed]",
      "text/plain": [
       "<matplotlib.figure.Figure at 0x7fa6cc754dd8>"
      ]
     },
     "metadata": {},
     "output_type": "display_data"
    }
   ],
   "source": [
    "post_a = 2 + sum(occurrences)\n",
    "post_b = 2 + (5*len(occurrences) - sum(occurrences))\n",
    "plt.plot([0.01*x for x in range(100)],[stats.beta.pdf(x/100, post_a, post_b) for x in range(100)])\n",
    "plt.show()"
   ]
  },
  {
   "cell_type": "markdown",
   "metadata": {},
   "source": [
    "6) What is the expected posterior of $\\mu$?\n",
    "\n",
    "The expected posterior is given by $$P(\\mu \\vert D) = \\frac{m + a}{m + a + l + b}$$"
   ]
  },
  {
   "cell_type": "code",
   "execution_count": 9,
   "metadata": {
    "collapsed": false
   },
   "outputs": [
    {
     "data": {
      "text/plain": [
       "0.4251968503937008"
      ]
     },
     "execution_count": 9,
     "metadata": {},
     "output_type": "execute_result"
    }
   ],
   "source": [
    "post_a/(post_a + post_b)"
   ]
  },
  {
   "cell_type": "markdown",
   "metadata": {},
   "source": [
    "Which is a really close value to what was predicted using MLE."
   ]
  }
 ],
 "metadata": {
  "kernelspec": {
   "display_name": "Python 3",
   "language": "python",
   "name": "python3"
  },
  "language_info": {
   "codemirror_mode": {
    "name": "ipython",
    "version": 3
   },
   "file_extension": ".py",
   "mimetype": "text/x-python",
   "name": "python",
   "nbconvert_exporter": "python",
   "pygments_lexer": "ipython3",
   "version": "3.4.3+"
  }
 },
 "nbformat": 4,
 "nbformat_minor": 1
}

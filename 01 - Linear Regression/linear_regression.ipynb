{
 "cells": [
  {
   "cell_type": "markdown",
   "metadata": {},
   "source": [
    "# Exercise 01 - Linear Regression\n",
    "\n",
    "## Data generation\n",
    "\n",
    "Generate a training data set for regression consisting of $N = 100$ points. The input values $\\{x_n\\}_{n=1}^N$ are generated uniformly in the interval $(0,1)$ and the corresponding target values $\\{t_n\\}_{n=1}^N$ are obtained by first computing the corresponding values of the function $abx^{a-1}(1 - x^a)^{b-1}$, with $a=2$ and $b=5$, and, then, by adding some random noise $\\epsilon$ with a Gaussian distribution having mean $\\mu = 0$ and standard deviation $\\sigma = 0.3$, $\\epsilon \\sim N(\\mu, \\sigma)$: $$t_n = abx^{a-1}(1 - x^a)^{b-1} + \\epsilon_n \\ \\text{with}\\ a=2,\\ b=5\\ \\text{and}\\ \\epsilon_n \\sim N(\\mu, \\sigma)$$"
   ]
  },
  {
   "cell_type": "code",
   "execution_count": 1,
   "metadata": {
    "collapsed": true
   },
   "outputs": [],
   "source": [
    "import numpy as np\n",
    "import matplotlib.pyplot as plt\n",
    "import random\n",
    "import math"
   ]
  },
  {
   "cell_type": "markdown",
   "metadata": {},
   "source": [
    "The first thing to do is to create functions that return the real value of $f(x) = abx^{a-1}(1 - x^a)^{b-1}$ (with fixed $a$ and $b$) and the noised value $g(x) = f(x) + \\epsilon$."
   ]
  },
  {
   "cell_type": "code",
   "execution_count": 2,
   "metadata": {
    "collapsed": true
   },
   "outputs": [],
   "source": [
    "def f(x, a=2, b=5):\n",
    "    return a*b*(x**(a-1))*((1-x**a)**(b-1))\n",
    "    #return math.sin(2*math.pi*x)"
   ]
  },
  {
   "cell_type": "code",
   "execution_count": 3,
   "metadata": {
    "collapsed": false
   },
   "outputs": [],
   "source": [
    "def f_noise(x, mean=0.0, sd = 0.3):\n",
    "    return f(x) + np.random.normal(mean, sd)"
   ]
  },
  {
   "cell_type": "markdown",
   "metadata": {},
   "source": [
    "Now, we'll just create a dataset by calculating the value of $g(x)$ for 100 equally-spaced points in the interval (0,1)"
   ]
  },
  {
   "cell_type": "code",
   "execution_count": 4,
   "metadata": {
    "collapsed": false
   },
   "outputs": [],
   "source": [
    "def generate_dataset(inf = 0, sup = 1, n_points=100):\n",
    "    step = round((sup - inf)/n_points, 2)\n",
    "    points = []\n",
    "    for x in range(100):\n",
    "        points.append(x*step)\n",
    "    return [(x, f_noise(x)) for x in points]\n",
    "\n",
    "def save_dataset(dataset, outputfile):\n",
    "    with open(outputfile, 'w') as f:\n",
    "        for line in dataset:\n",
    "            f.write(str(line[0]) + '\\t' + str(line[1]) + '\\n')"
   ]
  },
  {
   "cell_type": "code",
   "execution_count": 5,
   "metadata": {
    "collapsed": false
   },
   "outputs": [],
   "source": [
    "dataset = generate_dataset()\n",
    "save_dataset(dataset, 'data.tsv')"
   ]
  },
  {
   "cell_type": "markdown",
   "metadata": {},
   "source": [
    "Here is a sample of the dataset we get:"
   ]
  },
  {
   "cell_type": "code",
   "execution_count": 6,
   "metadata": {
    "collapsed": false
   },
   "outputs": [
    {
     "data": {
      "text/plain": [
       "[(0.0, 0.13740357137949347),\n",
       " (0.01, -0.7739044922154135),\n",
       " (0.02, 0.8031161088009965),\n",
       " (0.03, 0.03932126286498072),\n",
       " (0.04, 0.2863310392878493),\n",
       " (0.05, -0.037273588732157636),\n",
       " (0.06, 0.8183343025326422),\n",
       " (0.07, 0.9092288795657522),\n",
       " (0.08, 0.47559279990776254),\n",
       " (0.09, 1.1279837076458692)]"
      ]
     },
     "execution_count": 6,
     "metadata": {},
     "output_type": "execute_result"
    }
   ],
   "source": [
    "dataset[:10]"
   ]
  },
  {
   "cell_type": "markdown",
   "metadata": {},
   "source": [
    "And here is the figure we get by plotting the data:"
   ]
  },
  {
   "cell_type": "code",
   "execution_count": 7,
   "metadata": {
    "collapsed": false
   },
   "outputs": [
    {
     "data": {
      "image/png": "[encoded data removed]",
      "text/plain": [
       "<matplotlib.figure.Figure at 0x7fd654ad1c88>"
      ]
     },
     "metadata": {},
     "output_type": "display_data"
    }
   ],
   "source": [
    "plt.plot([x[0] for x in dataset], [x[1] for x in dataset], '.')\n",
    "plt.show()"
   ]
  },
  {
   "cell_type": "markdown",
   "metadata": {},
   "source": [
    "## Curve fitting\n",
    "\n",
    "Fit the data with a polynomial function of the form $$y_M(x,w) = w_0 + w_1x + w_2x^2 + \\cdots + w_Mx^M = \\sum\\limits_{j=0}^{M}{w_jx^j},$$ in which M is the order of the polynomial. The polynomial coefficients are collected in vector $w$.\n",
    "\n",
    "The fit must be done by minimising, independently, two error functions that measure, for any given value of $w$, the misfit between function $y_M(x, w)$ and the training data. That is:\n",
    "\n",
    "* $E_{OLS}(w, M) = \\frac{1}{2} \\sum\\limits_{n=1}^{N} (y_M(x,w) - t_n)^2$ \n",
    "* $E_{RIDGE}(w, M, \\lambda) = \\frac{1}{2} \\sum\\limits_{n=1}^{N} (y_M(x,w) - t_n)^2 + \\frac{\\lambda}{2}\\|w\\|$\n",
    "\n",
    "In the first case, you must select the order $M$ of the polynomial using $S$-fold cross-validation, for $S=3$ and for $S=N$ (leave-one-out cross-validation, LOO). In the second case, let $M$ be fixed and select the regularisation coefficient $\\lambda$, again using $K$-fold cross-validation, for $K=3$ and for $K=N$. "
   ]
  },
  {
   "cell_type": "markdown",
   "metadata": {},
   "source": [
    "### General functions\n",
    "\n",
    "First, we need a function to create a matrix $X \\in \\mathbb{R}^{N \\times M}$ with the values of the variables $x$ from the expression $y_M(x, w)$, i.e. $X$ is the matrix with $x_{ij} = x_i^j$, where $N$ is the number of datapoints we have, $M$ is the degree of the polynomial $y_M(x,w)$ and $x_i$ is the value from the $i$th-line from our dataset"
   ]
  },
  {
   "cell_type": "code",
   "execution_count": 8,
   "metadata": {
    "collapsed": false
   },
   "outputs": [],
   "source": [
    "def generate_matrix(data, m):\n",
    "    return [[line[0]**i for i in range(m+1)] + [line[1]] for line in data]"
   ]
  },
  {
   "cell_type": "markdown",
   "metadata": {},
   "source": [
    "Now, we need a function that calculates the value of the weights $w*$ of the model from the formula $w^* = (X^TX)^{-1}X^TY$ (For ordinary least squares) or $w^* = (X^TX + \\lambda i)^{-1}X^TY$ (for ridge regression)"
   ]
  },
  {
   "cell_type": "code",
   "execution_count": 9,
   "metadata": {
    "collapsed": false
   },
   "outputs": [],
   "source": [
    "def update_weights(X, t, method='OLS', lambd = 0):\n",
    "    if method == 'OLS':\n",
    "        xxt = np.dot(np.transpose(X), X)\n",
    "        inv = np.linalg.inv(xxt)\n",
    "        X_factor = np.dot(inv, np.transpose(X))\n",
    "        return np.dot(X_factor, t)\n",
    "    else:\n",
    "        xxt = np.dot(np.transpose(X), X)\n",
    "        xxtlamb = np.add(xxt, np.dot(lambd, np.eye(len(xxt))))\n",
    "        inv = np.linalg.inv(xxtlamb)\n",
    "        X_factor = np.dot(inv, np.transpose(X))\n",
    "        return np.dot(X_factor, t)"
   ]
  },
  {
   "cell_type": "markdown",
   "metadata": {},
   "source": [
    "The next function is used to calculate the least squares errors between two inputs: the outputs of the predictions and \n",
    "the targets."
   ]
  },
  {
   "cell_type": "code",
   "execution_count": 10,
   "metadata": {
    "collapsed": false
   },
   "outputs": [],
   "source": [
    "def calculate_least_squares_error(predictions, targets):\n",
    "    return sum([(x - t)**2 for x,t in zip(predictions, targets)])/2\n",
    "\n",
    "def calculate_least_squares_regularized(predictions, targets, lambd, weights):\n",
    "    return calculate_least_squares_error(predictions, targets) + (lambd/2)*np.linalg.norm(weights)"
   ]
  },
  {
   "cell_type": "markdown",
   "metadata": {},
   "source": [
    "Now we need a function that takes as input a training set and a test set, finds the model parameters for the training set and outputs the predictions and the least squares error for the test set."
   ]
  },
  {
   "cell_type": "code",
   "execution_count": 11,
   "metadata": {
    "collapsed": false
   },
   "outputs": [],
   "source": [
    "def fit_and_find_error(X_train, y_train, X_test, y_test, method='OLS', lambd=0):\n",
    "    weights = update_weights(X_train, y_train, method, lambd)\n",
    "    predictions = [np.dot(weights, line) for line in X_test]\n",
    "    if method=='OLS':\n",
    "        return predictions, calculate_least_squares_error(predictions, y_test)\n",
    "    else:\n",
    "        return predictions, calculate_least_squares_regularized(predictions, y_test, lambd, weights)"
   ]
  },
  {
   "cell_type": "markdown",
   "metadata": {},
   "source": [
    "And to finish, we need a function that splits the data in K-folds and outputs a list of those folds."
   ]
  },
  {
   "cell_type": "code",
   "execution_count": 12,
   "metadata": {
    "collapsed": true
   },
   "outputs": [],
   "source": [
    "def k_fold_split(data, k):\n",
    "    folds = []\n",
    "    fold_size = int(len(data)/k)\n",
    "    lower = 0\n",
    "    upper = fold_size\n",
    "    n_data = 0\n",
    "    for n_fold in range(k):\n",
    "        fold = [data[x] for x in range(lower, upper)]\n",
    "        n_data += len(fold)\n",
    "        \n",
    "        # updating the boundaries\n",
    "        lower = upper\n",
    "        upper += fold_size\n",
    "        \n",
    "        # making sure that upper <= len(data)\n",
    "        upper = min(upper, len(data))\n",
    "        \n",
    "        if n_data != len(data) and n_fold == k-1:\n",
    "            fold += data[n_data:len(data)]\n",
    "        \n",
    "        folds.append(fold)\n",
    "    return folds    "
   ]
  },
  {
   "cell_type": "code",
   "execution_count": 13,
   "metadata": {
    "collapsed": false
   },
   "outputs": [
    {
     "name": "stdout",
     "output_type": "stream",
     "text": [
      "6.16568706224\n"
     ]
    },
    {
     "data": {
      "image/png": "[encoded data removed]",
      "text/plain": [
       "<matplotlib.figure.Figure at 0x7fd6535300b8>"
      ]
     },
     "metadata": {},
     "output_type": "display_data"
    }
   ],
   "source": [
    "mat = generate_matrix(dataset, 3)\n",
    "\n",
    "X_train = np.array([x[:-1] for x in mat])\n",
    "y_train = np.array([x[-1]  for x in mat])\n",
    "\n",
    "w = update_weights(X_train, y_train)\n",
    "\n",
    "pred = [np.dot(w, line) for line in X_train]\n",
    "print(calculate_least_squares_error(pred, y_train))\n",
    "plt.plot([x[0] for x in dataset],[x[1] for x in dataset], 'b.', [x[0] for x in dataset], pred, 'r')\n",
    "plt.show()"
   ]
  },
  {
   "cell_type": "markdown",
   "metadata": {},
   "source": [
    "### Ordinary Least Squares\n",
    "\n",
    "Now, we need to find the optimal value of M. For that, we use cross-validation. The process is:\n",
    "* Split the data in K folds.\n",
    "* Iterate through the possible values of M (from 0 to len(data)).\n",
    "    * Iterate through the folds, taking one fold to be the test set and the others to be the train set (i.e. Every fold must be used as test set once).\n",
    "        * Fit a model for the current training set and measure the error in the test set.\n",
    "    * After finishing iterating through the folds, calculate the mean of the errors.\n",
    "* After doing this for every value of M, find the value with the least mean error."
   ]
  },
  {
   "cell_type": "code",
   "execution_count": 14,
   "metadata": {
    "collapsed": false
   },
   "outputs": [],
   "source": [
    "def OLS(dataset, max_M = 100, k = 3):\n",
    "    mean_errors = []\n",
    "    data = list(dataset)\n",
    "    random.shuffle(data)\n",
    "    for M in range(max_M + 1):\n",
    "        matrix_data = generate_matrix(data, M)\n",
    "        folds = k_fold_split(matrix_data, k)\n",
    "        errors = []\n",
    "        for i,fold in enumerate(folds):\n",
    "            test = fold\n",
    "            train = [el for n,tfold in enumerate(folds) for el in tfold if n != i]\n",
    "            \n",
    "            X_train = np.array([line[:-1] for line in train])\n",
    "            y_train = np.array([line[-1] for line in train])\n",
    "            \n",
    "            X_test = np.array([line[:-1] for line in test])\n",
    "            y_test = np.array([line[-1] for line in test])\n",
    "            \n",
    "            pred, error = fit_and_find_error(X_train, y_train, X_test, y_test)\n",
    "            errors.append(error)\n",
    "        mean_errors.append(math.log10(sum(errors)/(int(len(data)/k))))\n",
    "    plt.plot(mean_errors)\n",
    "    plt.show()\n",
    "    return mean_errors.index(min(mean_errors))"
   ]
  },
  {
   "cell_type": "code",
   "execution_count": 15,
   "metadata": {
    "collapsed": false
   },
   "outputs": [
    {
     "data": {
      "image/png": "[encoded data removed]",
      "text/plain": [
       "<matplotlib.figure.Figure at 0x7fd65589e518>"
      ]
     },
     "metadata": {},
     "output_type": "display_data"
    },
    {
     "name": "stdout",
     "output_type": "stream",
     "text": [
      "Best value of M using k=3 folds: 5\n"
     ]
    },
    {
     "data": {
      "image/png": "[encoded data removed]",
      "text/plain": [
       "<matplotlib.figure.Figure at 0x7fd6534e1fd0>"
      ]
     },
     "metadata": {},
     "output_type": "display_data"
    },
    {
     "name": "stdout",
     "output_type": "stream",
     "text": [
      "Best value of M using k=100 folds: 3\n"
     ]
    }
   ],
   "source": [
    "M_opt_3 = OLS(dataset, max_M=100, k=3)\n",
    "print(\"Best value of M using k=3 folds: {}\".format(M_opt_3))\n",
    "\n",
    "M_opt_100 = OLS(dataset, max_M=100, k=100)\n",
    "print(\"Best value of M using k=100 folds: {}\".format(M_opt_100))"
   ]
  },
  {
   "cell_type": "markdown",
   "metadata": {
    "collapsed": true
   },
   "source": [
    "### Ridge Regression\n",
    "\n",
    "Now, given the value found for M, we must find the best value for $\\lambda$. For that, we use cross-validation. The process is:\n",
    "* Split the data in K folds.\n",
    "* Iterate through the possible values of $\\lambda$ (Discussed a bit further).\n",
    "    * Iterate through the folds, taking one fold to be the test set and the others to be the train set (i.e. Every fold must be used as test set once).\n",
    "        * Fit a model for the current training set and measure the error in the test set.\n",
    "    * After finishing iterating through the folds, calculate the mean of the errors.\n",
    "* After doing this for every value of $\\lambda$, find the value with the least mean error.\n",
    "\n",
    "This process is the same as the OLS, but now we need to define the possible values for the continuous variable $\\lambda$. For that, we will analyze what happens to the error for a few values of $\\lambda$, using the whole dataset."
   ]
  },
  {
   "cell_type": "code",
   "execution_count": 16,
   "metadata": {
    "collapsed": false
   },
   "outputs": [],
   "source": [
    "def ridge(dataset, possible_lambdas, k=3, M=3):\n",
    "    mean_errors = []\n",
    "    data = list(dataset)\n",
    "    random.shuffle(data)\n",
    "    for lambd in possible_lambdas:\n",
    "        matrix_data = generate_matrix(data, M)\n",
    "        folds = k_fold_split(matrix_data, k)\n",
    "        errors = []\n",
    "        for i,fold in enumerate(folds):\n",
    "            test = fold\n",
    "            train = [el for n,tfold in enumerate(folds) for el in tfold if n != i]\n",
    "\n",
    "            X_train = np.array([line[:-1] for line in train])\n",
    "            y_train = np.array([line[-1] for line in train])\n",
    "\n",
    "            X_test = np.array([line[:-1] for line in test])\n",
    "            y_test = np.array([line[-1] for line in test])\n",
    "\n",
    "            pred, error = fit_and_find_error(X_train, y_train, X_test, y_test, method='ridge', lambd=lambd)\n",
    "            errors.append(error)\n",
    "        mean_errors.append(sum(errors)/k)\n",
    "    plt.plot(mean_errors)\n",
    "    plt.show()\n",
    "    return mean_errors.index(min(mean_errors))"
   ]
  },
  {
   "cell_type": "code",
   "execution_count": 22,
   "metadata": {
    "collapsed": false
   },
   "outputs": [
    {
     "data": {
      "image/png": "[encoded data removed]",
      "text/plain": [
       "<matplotlib.figure.Figure at 0x7fd650c42400>"
      ]
     },
     "metadata": {},
     "output_type": "display_data"
    },
    {
     "name": "stdout",
     "output_type": "stream",
     "text": [
      "7\n"
     ]
    },
    {
     "data": {
      "image/png": "[encoded data removed]",
      "text/plain": [
       "<matplotlib.figure.Figure at 0x7fd650a70f28>"
      ]
     },
     "metadata": {},
     "output_type": "display_data"
    },
    {
     "name": "stdout",
     "output_type": "stream",
     "text": [
      "5\n"
     ]
    }
   ],
   "source": [
    "poss_1 = [-15, -14, -13, -12, -11, -10, -9, -8, -7]\n",
    "l_opt_3 = ridge(dataset, [math.exp(x) for x in poss_1])\n",
    "print(l_opt_3)\n",
    "\n",
    "l_opt_3 = ridge(dataset, [x*math.exp(poss_1[l_opt_3]) for x in [0.1, 0.2, 0.3, 0.4, 0.5,1, 1.25, 1.5, 1.75, 2, 2.5]])\n",
    "print(l_opt_3)\n",
    "\n"
   ]
  },
  {
   "cell_type": "markdown",
   "metadata": {},
   "source": [
    "So the best value for $\\lambda$ found from this analysis is about $e^{-8}$ (It is important to note that in the ridge function, we randomize the dataset. Given the randomization that we choose, the intervals used to choose the value of $\\lambda$ might be wrong)."
   ]
  },
  {
   "cell_type": "markdown",
   "metadata": {},
   "source": [
    "### Calculating model parameters\n",
    "\n",
    "Now, in possession of $M$ and $\\lambda$, we can train our model and find its parameters"
   ]
  },
  {
   "cell_type": "code",
   "execution_count": 24,
   "metadata": {
    "collapsed": false
   },
   "outputs": [
    {
     "name": "stdout",
     "output_type": "stream",
     "text": [
      "Weights for OLS:\n",
      "[ -1.14648916e-01   6.06472142e+00   1.78831346e+02  -1.99905056e+03\n",
      "   8.42700870e+03  -8.31391488e+03  -5.53355790e+04   2.34767439e+05\n",
      "  -4.22022130e+05   4.08387021e+05  -2.07912142e+05   4.38168885e+04]\n"
     ]
    }
   ],
   "source": [
    "mat = generate_matrix(dataset, 11)\n",
    "print('Weights for OLS:')\n",
    "print(update_weights([line[:-1] for line in mat], [line[-1] for line in mat]))"
   ]
  },
  {
   "cell_type": "code",
   "execution_count": 25,
   "metadata": {
    "collapsed": false
   },
   "outputs": [
    {
     "name": "stdout",
     "output_type": "stream",
     "text": [
      "Weights for Ridge regression:\n",
      "[ -0.1463597   12.91753852 -16.7964766   -7.89580119   3.3022545\n",
      "   7.31370115   5.66773531   1.86089851  -1.50409199  -3.06761889\n",
      "  -2.36830238   0.544724  ]\n"
     ]
    }
   ],
   "source": [
    "print('Weights for Ridge regression:')\n",
    "print(update_weights([line[:-1] for line in mat], [line[-1] for line in mat], method='ridge', lambd=math.exp(-8)))"
   ]
  }
 ],
 "metadata": {
  "kernelspec": {
   "display_name": "Python 3",
   "language": "python",
   "name": "python3"
  },
  "language_info": {
   "codemirror_mode": {
    "name": "ipython",
    "version": 3
   },
   "file_extension": ".py",
   "mimetype": "text/x-python",
   "name": "python",
   "nbconvert_exporter": "python",
   "pygments_lexer": "ipython3",
   "version": "3.4.3+"
  }
 },
 "nbformat": 4,
 "nbformat_minor": 1
}

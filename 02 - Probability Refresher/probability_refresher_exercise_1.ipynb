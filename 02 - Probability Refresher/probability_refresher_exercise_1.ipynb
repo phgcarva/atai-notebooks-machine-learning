{
 "cells": [
  {
   "cell_type": "markdown",
   "metadata": {},
   "source": [
    "# Probability Refresher - Exercise 01\n",
    "\n",
    "In the english language, there are $27$ possible letters a-z and the space - character. You are given a collection of $N$ English language documents, for each document, you have to:\n",
    "* Calculate and plot the probability distribution $P(x)$ over the 27 letters $x$.\n",
    "* Calculate and plot the probability distribution $P(x, y)$ over the $27 \\times 27$ possible (ordered) di-grams $xy$. Note: For this joint distribution, its two marginals, $P(x)$ and $P(y)$, are identical.\n",
    "* From this joint distribution, calculate and plot the conditional distributions $i)\\ P(y|x)$, the conditional distribution of the second letter $y$ given the first letter $x$; and $ii)\\ P(x|y)$, the conditional distribution of the first letter $x$ given the second letter $y$\n",
    "* Calculate and plot the Shannon information content $h(x) = \\log_2(1/P(x))$ of an outcome $x$ and the entropy of a randomly selected letter $H(x) = \\sum\\limits_x P(x)\\log_2(1/P(x))$, assuming its probability is given by $P(x)$. Entropy is additive for independent random variables $(H(X,Y) = H(X) + H(Y))$ iff $P(x,y) = P(x)P(y))$, is this true for the document?"
   ]
  },
  {
   "cell_type": "code",
   "execution_count": 1,
   "metadata": {
    "collapsed": true
   },
   "outputs": [],
   "source": [
    "import numpy as np\n",
    "import matplotlib.pyplot as plt\n",
    "from matplotlib.backends.backend_pdf import PdfPages"
   ]
  },
  {
   "cell_type": "code",
   "execution_count": 2,
   "metadata": {
    "collapsed": true
   },
   "outputs": [],
   "source": [
    "def read_doc(document):\n",
    "    with open(document, 'r') as f:\n",
    "        lines = f.readlines()\n",
    "        return lines"
   ]
  },
  {
   "cell_type": "code",
   "execution_count": 23,
   "metadata": {
    "collapsed": true
   },
   "outputs": [],
   "source": [
    "import itertools\n",
    "\n",
    "alphabet = ['a', 'b', 'c', 'd', 'e', 'f', 'g', 'h', 'i', \n",
    "            'j', 'k', 'l', 'm', 'n', 'o', 'p', 'q', 'r', \n",
    "            's', 't', 'u', 'v', 'w', 'x', 'y', 'z', ' ']\n",
    "\n",
    "di_alphabet = [x[0]+x[1] for x in itertools.product(alphabet, alphabet)]\n",
    "\n",
    "alphabet_mapping = dict([(letter, i) for i, letter in enumerate(alphabet)])\n",
    "\n",
    "def hinton(matrix, max_weight=None, ax=None):\n",
    "    \"\"\"Draw Hinton diagram for visualizing a weight matrix.\"\"\"\n",
    "    ax = ax if ax is not None else plt.gca()\n",
    "\n",
    "    if not max_weight:\n",
    "        max_weight = 2 ** np.ceil(np.log(np.abs(matrix).max()) / np.log(2))\n",
    "\n",
    "    ax.patch.set_facecolor('black')\n",
    "    ax.set_aspect('equal', 'box')\n",
    "    ax.xaxis.set_major_locator(plt.NullLocator())\n",
    "    ax.yaxis.set_major_locator(plt.NullLocator())\n",
    "    plt.xticks([x for x in range(len(alphabet))], alphabet)\n",
    "    plt.yticks([x for x in range(len(alphabet))], alphabet)\n",
    "\n",
    "    if type(matrix[0]) == np.ndarray:\n",
    "        for (x, y), w in np.ndenumerate(matrix):\n",
    "            color = 'white' if w > 0 else 'black'\n",
    "            size = np.sqrt(np.abs(w) / max_weight)\n",
    "            rect = plt.Rectangle([x - size / 2, y - size / 2], size, size,\n",
    "                                 facecolor=color, edgecolor=color)\n",
    "            ax.add_patch(rect)\n",
    "    else:\n",
    "        for x, w in np.ndenumerate(matrix):\n",
    "            color = 'white' if w > 0 else 'black'\n",
    "            size = np.sqrt(np.abs(w) / max_weight)\n",
    "            rect = plt.Rectangle([x - size / 2, x - size / 2], size, size,\n",
    "                                 facecolor=color, edgecolor=color)\n",
    "            ax.add_patch(rect)\n",
    "\n",
    "    ax.autoscale_view()\n",
    "    #ax.invert_yaxis()"
   ]
  },
  {
   "cell_type": "code",
   "execution_count": 27,
   "metadata": {
    "collapsed": false
   },
   "outputs": [],
   "source": [
    "def compute_probabilities_unigrams(documents):\n",
    "    probabilities = [0 for letter in alphabet]\n",
    "    lines = []\n",
    "    for document in documents:\n",
    "        lines += read_doc(document)\n",
    "    \n",
    "    total = 0\n",
    "    for line in lines:\n",
    "        for char in line.replace(\"\\n\",\"\"):\n",
    "            if char.lower() in alphabet:\n",
    "                total += 1\n",
    "                probabilities[alphabet_mapping[char.lower()]] += 1\n",
    "    \n",
    "    output = np.array([el for el in probabilities])\n",
    "    hinton(output)\n",
    "        \n",
    "def compute_probabilities_digrams(documents):\n",
    "    lines = []\n",
    "    for document in documents:\n",
    "        lines += read_doc(document)\n",
    "        \n",
    "    probabilities = [[0 for l in alphabet] for l2 in alphabet]\n",
    "    \n",
    "    for line in lines:\n",
    "        for i, _ in enumerate(line[:-1].replace(\"\\n\", '')):\n",
    "            if line[i]+line[i+1] in di_alphabet:\n",
    "                probabilities[alphabet_mapping[line[i]]][alphabet_mapping[line[i+1]]] += 1\n",
    "    total = 0\n",
    "    for line in probabilities:\n",
    "        total += sum(line)\n",
    "        \n",
    "    output = np.array([[el/total for el in line] for line in probabilities])\n",
    "    \n",
    "    hinton(output)\n",
    "            \n",
    "    \n"
   ]
  },
  {
   "cell_type": "code",
   "execution_count": 31,
   "metadata": {
    "collapsed": false
   },
   "outputs": [
    {
     "name": "stdout",
     "output_type": "stream",
     "text": [
      "<class 'numpy.int64'>\n",
      "<class 'numpy.ndarray'>\n"
     ]
    },
    {
     "data": {
      "image/png": "[encoded data removed]",
      "text/plain": [
       "<matplotlib.figure.Figure at 0x7f5ade2fe630>"
      ]
     },
     "metadata": {},
     "output_type": "display_data"
    },
    {
     "data": {
      "image/png": "[encoded data removed]",
      "text/plain": [
       "<matplotlib.figure.Figure at 0x7f5ae15c2198>"
      ]
     },
     "metadata": {},
     "output_type": "display_data"
    }
   ],
   "source": [
    "pdf = PdfPages('multipage.pdf')\n",
    "plt.figure(0)\n",
    "compute_probabilities_unigrams(['./txts/LIFE_by_JM_Machado_de_Assis.txt',\n",
    "                                './txts/THE_ATTENDANT_S_CONFESSION_by_JM_Machado_de_Assis.txt',\n",
    "                                './txts/THE_FORTUNE_TELLER_by_JM_Machado_de_Assis.txt'])\n",
    "plt.savefig(pdf, format='pdf')\n",
    "plt.figure(1)\n",
    "compute_probabilities_digrams(['./txts/LIFE_by_JM_Machado_de_Assis.txt',\n",
    "                                './txts/THE_ATTENDANT_S_CONFESSION_by_JM_Machado_de_Assis.txt',\n",
    "                                './txts/THE_FORTUNE_TELLER_by_JM_Machado_de_Assis.txt'])\n",
    "plt.savefig(pdf, format='pdf')\n",
    "plt.show()\n",
    "\n",
    "pdf.close()\n",
    "\n"
   ]
  },
  {
   "cell_type": "code",
   "execution_count": 6,
   "metadata": {
    "collapsed": false
   },
   "outputs": [],
   "source": [
    "#compute_probabilities_unigrams(['./txts/LIFE_by_JM_Machado_de_Assis.txt',\n",
    "#                                './txts/THE_ATTENDANT_S_CONFESSION_by_JM_Machado_de_Assis.txt',\n",
    "#                                './txts/THE_FORTUNE_TELLER_by_JM_Machado_de_Assis.txt'])\n",
    "\n"
   ]
  },
  {
   "cell_type": "code",
   "execution_count": 16,
   "metadata": {
    "collapsed": false
   },
   "outputs": [
    {
     "data": {
      "text/plain": [
       "numpy.ndarray"
      ]
     },
     "execution_count": 16,
     "metadata": {},
     "output_type": "execute_result"
    }
   ],
   "source": [
    "l = np.array([1,2,3])\n",
    "type(l)"
   ]
  },
  {
   "cell_type": "code",
   "execution_count": null,
   "metadata": {
    "collapsed": true
   },
   "outputs": [],
   "source": []
  }
 ],
 "metadata": {
  "kernelspec": {
   "display_name": "Python 3",
   "language": "python",
   "name": "python3"
  },
  "language_info": {
   "codemirror_mode": {
    "name": "ipython",
    "version": 3
   },
   "file_extension": ".py",
   "mimetype": "text/x-python",
   "name": "python",
   "nbconvert_exporter": "python",
   "pygments_lexer": "ipython3",
   "version": "3.4.3+"
  }
 },
 "nbformat": 4,
 "nbformat_minor": 1
}

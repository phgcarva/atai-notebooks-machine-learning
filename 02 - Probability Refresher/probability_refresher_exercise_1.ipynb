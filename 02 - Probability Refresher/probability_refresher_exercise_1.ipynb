{
 "cells": [
  {
   "cell_type": "markdown",
   "metadata": {},
   "source": [
    "# Probability Refresher - Exercise 01\n",
    "\n",
    "In the english language, there are $27$ possible letters a-z and the space - character. You are given a collection of $N$ English language documents, for each document, you have to:\n",
    "* Calculate and plot the probability distribution $P(x)$ over the 27 letters $x$.\n",
    "* Calculate and plot the probability distribution $P(x, y)$ over the $27 \\times 27$ possible (ordered) di-grams $xy$. Note: For this joint distribution, its two marginals, $P(x)$ and $P(y)$, are identical.\n",
    "* From this joint distribution, calculate and plot the conditional distributions $i)\\ P(y|x)$, the conditional distribution of the second letter $y$ given the first letter $x$; and $ii)\\ P(x|y)$, the conditional distribution of the first letter $x$ given the second letter $y$\n",
    "* Calculate and plot the Shannon information content $h(x) = \\log_2(1/P(x))$ of an outcome $x$ and the entropy of a randomly selected letter $H(x) = \\sum\\limits_x P(x)\\log_2(1/P(x))$, assuming its probability is given by $P(x)$. Entropy is additive for independent random variables $(H(X,Y) = H(X) + H(Y))$ iff $P(x,y) = P(x)P(y))$, is this true for the document?"
   ]
  },
  {
   "cell_type": "code",
   "execution_count": 1,
   "metadata": {
    "collapsed": true
   },
   "outputs": [],
   "source": [
    "def read_doc(document):\n",
    "    with open(document, 'r') as f:\n",
    "        lines = f.readlines()\n",
    "        return lines"
   ]
  },
  {
   "cell_type": "code",
   "execution_count": 24,
   "metadata": {
    "collapsed": true
   },
   "outputs": [],
   "source": [
    "def compute_probabilities_unigrams(document):\n",
    "    probabilities = {}\n",
    "    lines = read_doc(document)\n",
    "    \n",
    "    total = 0\n",
    "    for line in lines:\n",
    "        for char in line.replace(\"\\n\",\"\"):\n",
    "            total += 1\n",
    "            if char.lower() not in probabilities:\n",
    "                probabilities.update({char.lower(): 0})\n",
    "            probabilities[char.lower()] += 1\n",
    "    \n",
    "    for el in probabilities:\n",
    "        probabilities[el] = probabilities[el]/total\n",
    "        print('({}: {})'.format(el, probabilities[el]))\n",
    "        \n",
    "def compute_probabilities_digrams(document):\n",
    "    probabilities = {}\n",
    "    lines = read_doc(document)\n",
    "    \n",
    "    total = 0\n",
    "    for line in lines:\n",
    "        for i, char in enumerate(line.replace(\"\\n\",\"\")[:-1]):\n",
    "            total += 1\n",
    "            if '{}{}'.format(char.lower(), line[i+1].lower()) not in probabilities:\n",
    "                probabilities.update({'{}{}'.format(char.lower(), line[i+1].lower()): 0})\n",
    "            probabilities['{}{}'.format(char.lower(), line[i+1].lower())] += 1\n",
    "    \n",
    "    for el in probabilities:\n",
    "        probabilities[el] = probabilities[el]/total\n",
    "        print('({}: {})'.format(el, probabilities[el]))\n"
   ]
  },
  {
   "cell_type": "code",
   "execution_count": 26,
   "metadata": {
    "collapsed": false
   },
   "outputs": [
    {
     "name": "stdout",
     "output_type": "stream",
     "text": [
      "(k: 0.004025871172122492)\n",
      "(x: 0.0007259767687434002)\n",
      "(): 0.00013199577613516366)\n",
      "(w: 0.017423442449841606)\n",
      "(e: 0.1112064413938754)\n",
      "(a: 0.05946409714889123)\n",
      "(d: 0.02514519535374868)\n",
      "(j: 0.0017819429778247096)\n",
      "(u: 0.030359028511087644)\n",
      "(t: 0.06876979936642028)\n",
      "(i: 0.050884371700105596)\n",
      "(f: 0.017555438225976768)\n",
      "(r: 0.04679250263991552)\n",
      "(!: 0.0010559662090813093)\n",
      "(m: 0.02257127771911299)\n",
      "(z: 0.0009899683210137275)\n",
      "(o: 0.05807814149947202)\n",
      "( : 0.16420274551214362)\n",
      "(s: 0.05194033790918691)\n",
      "(p: 0.01399155227032735)\n",
      "(v: 0.011021647307286166)\n",
      "(\": 0.00013199577613516366)\n",
      "(_: 0.0005279831045406547)\n",
      "(?: 0.0026399155227032735)\n",
      "(y: 0.019469376979936642)\n",
      "(g: 0.01253959873284055)\n",
      "(:: 0.00019799366420274552)\n",
      "(h: 0.05101636747624076)\n",
      "(q: 0.00026399155227032733)\n",
      "(b: 0.009833685322069694)\n",
      "(-: 0.0009899683210137275)\n",
      "(.: 0.021581309398099262)\n",
      "((: 0.00013199577613516366)\n",
      "(;: 0.004355860612460401)\n",
      "(c: 0.01643347412882788)\n",
      "(,: 0.01399155227032735)\n",
      "(': 0.00013199577613516366)\n",
      "(n: 0.05075237592397043)\n",
      "(l: 0.03689281942977825)\n"
     ]
    }
   ],
   "source": [
    "compute_probabilities_unigrams('./txts/LIFE_by_JM_Machado_de_Assis.txt')"
   ]
  },
  {
   "cell_type": "code",
   "execution_count": null,
   "metadata": {
    "collapsed": true
   },
   "outputs": [],
   "source": []
  }
 ],
 "metadata": {
  "kernelspec": {
   "display_name": "Python 3",
   "language": "python",
   "name": "python3"
  },
  "language_info": {
   "codemirror_mode": {
    "name": "ipython",
    "version": 3
   },
   "file_extension": ".py",
   "mimetype": "text/x-python",
   "name": "python",
   "nbconvert_exporter": "python",
   "pygments_lexer": "ipython3",
   "version": "3.5.2"
  }
 },
 "nbformat": 4,
 "nbformat_minor": 1
}

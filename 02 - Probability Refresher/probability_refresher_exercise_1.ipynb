{
 "cells": [
  {
   "cell_type": "markdown",
   "metadata": {},
   "source": [
    "# Probability Refresher - Exercise 01\n",
    "\n",
    "In the english language, there are $27$ possible letters a-z and the space - character. You are given a collection of $N$ English language documents, for each document, you have to:\n",
    "* Calculate and plot the probability distribution $P(x)$ over the 27 letters $x$.\n",
    "* Calculate and plot the probability distribution $P(x, y)$ over the $27 \\times 27$ possible (ordered) di-grams $xy$. Note: For this joint distribution, its two marginals, $P(x)$ and $P(y)$, are identical.\n",
    "* From this joint distribution, calculate and plot the conditional distributions $i)\\ P(y|x)$, the conditional distribution of the second letter $y$ given the first letter $x$; and $ii)\\ P(x|y)$, the conditional distribution of the first letter $x$ given the second letter $y$\n",
    "* Calculate and plot the Shannon information content $h(x) = \\log_2(1/P(x))$ of an outcome $x$ and the entropy of a randomly selected letter $H(x) = \\sum\\limits_x P(x)\\log_2(1/P(x))$, assuming its probability is given by $P(x)$. Entropy is additive for independent random variables $(H(X,Y) = H(X) + H(Y))$ iff $P(x,y) = P(x)P(y))$, is this true for the document?"
   ]
  },
  {
   "cell_type": "code",
   "execution_count": 1,
   "metadata": {
    "collapsed": true
   },
   "outputs": [],
   "source": [
    "import numpy as np\n",
    "import matplotlib.pyplot as plt\n",
    "from matplotlib.backends.backend_pdf import PdfPages\n",
    "import math"
   ]
  },
  {
   "cell_type": "code",
   "execution_count": 2,
   "metadata": {
    "collapsed": true
   },
   "outputs": [],
   "source": [
    "def read_doc(document):\n",
    "    with open(document, 'r') as f:\n",
    "        lines = f.readlines()\n",
    "        return lines"
   ]
  },
  {
   "cell_type": "code",
   "execution_count": 3,
   "metadata": {
    "collapsed": true
   },
   "outputs": [],
   "source": [
    "import itertools\n",
    "\n",
    "alphabet = ['a', 'b', 'c', 'd', 'e', 'f', 'g', 'h', 'i', \n",
    "            'j', 'k', 'l', 'm', 'n', 'o', 'p', 'q', 'r', \n",
    "            's', 't', 'u', 'v', 'w', 'x', 'y', 'z', ' ']\n",
    "\n",
    "di_alphabet = [x[0]+x[1] for x in itertools.product(alphabet, alphabet)]\n",
    "\n",
    "alphabet_mapping = dict([(letter, i) for i, letter in enumerate(alphabet)])\n",
    "\n",
    "def hinton(matrix, max_weight=None, ax=None):\n",
    "    \"\"\"Draw Hinton diagram for visualizing a weight matrix.\"\"\"\n",
    "    ax = ax if ax is not None else plt.gca()\n",
    "\n",
    "    if not max_weight:\n",
    "        max_weight = 2 ** np.ceil(np.log(np.abs(matrix).max()) / np.log(2))\n",
    "\n",
    "    ax.patch.set_facecolor('black')\n",
    "    ax.set_aspect('equal', 'box')\n",
    "    ax.xaxis.set_major_locator(plt.NullLocator())\n",
    "    ax.yaxis.set_major_locator(plt.NullLocator())\n",
    "    plt.xticks([x for x in range(len(alphabet))], alphabet)\n",
    "    plt.yticks([x for x in range(len(alphabet))], alphabet)\n",
    "\n",
    "    if type(matrix[0]) == np.ndarray:\n",
    "        for (x, y), w in np.ndenumerate(matrix):\n",
    "            color = 'white' if w > 0 else 'black'\n",
    "            size = np.sqrt(np.abs(w) / max_weight)\n",
    "            rect = plt.Rectangle([x - size / 2, y - size / 2], size, size,\n",
    "                                 facecolor=color, edgecolor=color)\n",
    "            ax.add_patch(rect)\n",
    "    else:\n",
    "        for x, w in np.ndenumerate(matrix):\n",
    "            color = 'white' if w > 0 else 'black'\n",
    "            size = np.sqrt(np.abs(w) / max_weight)\n",
    "            rect = plt.Rectangle([x - size / 2, x - size / 2], size, size,\n",
    "                                 facecolor=color, edgecolor=color)\n",
    "            ax.add_patch(rect)\n",
    "\n",
    "    ax.autoscale_view()\n",
    "    #ax.invert_yaxis()"
   ]
  },
  {
   "cell_type": "code",
   "execution_count": 4,
   "metadata": {
    "collapsed": false
   },
   "outputs": [],
   "source": [
    "def compute_probabilities_unigrams(documents):\n",
    "    probabilities = [0 for letter in alphabet]\n",
    "    lines = []\n",
    "    for document in documents:\n",
    "        lines += read_doc(document)\n",
    "    \n",
    "    total = 0\n",
    "    for line in lines:\n",
    "        for char in line.replace(\"\\n\",\"\"):\n",
    "            if char.lower() in alphabet:\n",
    "                total += 1\n",
    "                probabilities[alphabet_mapping[char.lower()]] += 1\n",
    "    \n",
    "    output = np.array([el/total for el in probabilities])\n",
    "    hinton(output)\n",
    "    \n",
    "    return probabilities, output\n",
    "        \n",
    "def compute_probabilities_digrams(documents):\n",
    "    lines = []\n",
    "    for document in documents:\n",
    "        lines += read_doc(document)\n",
    "        \n",
    "    probabilities = [[0 for l in alphabet] for l2 in alphabet]\n",
    "    \n",
    "    for line in lines:\n",
    "        for i, _ in enumerate(line[:-1].replace(\"\\n\", '')):\n",
    "            if line[i]+line[i+1] in di_alphabet:\n",
    "                probabilities[alphabet_mapping[line[i]]][alphabet_mapping[line[i+1]]] += 1\n",
    "    total = 0\n",
    "    for line in probabilities:\n",
    "        total += sum(line)\n",
    "        \n",
    "    output = np.array([[el/total for el in line] for line in probabilities])\n",
    "    \n",
    "    hinton(output)\n",
    "    \n",
    "    return probabilities, output\n",
    "\n",
    "def compute_probabilities_conditional(documents, frequencies, axis=0):\n",
    "    probabilities = []\n",
    "    for letter in alphabet:\n",
    "        if axis==0:\n",
    "            col = [x for x in frequencies[alphabet_mapping[letter]]]\n",
    "        else:\n",
    "            col = [x[alphabet_mapping[letter]] for x in frequencies]\n",
    "        \n",
    "        total = sum(col)\n",
    "        probabilities.append([x/total for x in col])\n",
    "    \n",
    "    output = np.array(probabilities)\n",
    "    \n",
    "    hinton(output)\n",
    "    \n",
    "def compute_shannon_info_content(probabilities):\n",
    "    output = np.array([math.log2(1/prob) for prob in probabilities])\n",
    "    hinton(output)\n",
    "    return output\n",
    "            \n",
    "def compute_entropy(probabilities,shannon_info):\n",
    "    entropy = sum([prob*info for prob, info in zip(probabilities, shannon_info)])\n",
    "    print(entropy)\n"
   ]
  },
  {
   "cell_type": "code",
   "execution_count": 5,
   "metadata": {
    "collapsed": false
   },
   "outputs": [
    {
     "name": "stdout",
     "output_type": "stream",
     "text": [
      "4.09385564201\n"
     ]
    },
    {
     "data": {
      "image/png": "[encoded data removed]",
      "text/plain": [
       "<matplotlib.figure.Figure at 0x7f5efe5553c8>"
      ]
     },
     "metadata": {},
     "output_type": "display_data"
    },
    {
     "data": {
      "image/png": "[encoded data removed]",
      "text/plain": [
       "<matplotlib.figure.Figure at 0x7f5efe6aba90>"
      ]
     },
     "metadata": {},
     "output_type": "display_data"
    },
    {
     "data": {
      "image/png": "[encoded data removed]",
      "text/plain": [
       "<matplotlib.figure.Figure at 0x7f5efa4919e8>"
      ]
     },
     "metadata": {},
     "output_type": "display_data"
    },
    {
     "data": {
      "image/png": "[encoded data removed]",
      "text/plain": [
       "<matplotlib.figure.Figure at 0x7f5ef997f7f0>"
      ]
     },
     "metadata": {},
     "output_type": "display_data"
    },
    {
     "data": {
      "image/png": "[encoded data removed]",
      "text/plain": [
       "<matplotlib.figure.Figure at 0x7f5ef8f66a20>"
      ]
     },
     "metadata": {},
     "output_type": "display_data"
    }
   ],
   "source": [
    "with PdfPages('multipage.pdf') as pdf:\n",
    "    plt.figure(0)\n",
    "    frequencies_uni, probabilities_uni = compute_probabilities_unigrams(['./txts/LIFE_by_JM_Machado_de_Assis.txt',\n",
    "                                    './txts/THE_ATTENDANT_S_CONFESSION_by_JM_Machado_de_Assis.txt',\n",
    "                                    './txts/THE_FORTUNE_TELLER_by_JM_Machado_de_Assis.txt'])\n",
    "    plt.savefig(pdf, format='pdf')\n",
    "    plt.figure(1)\n",
    "    frequencies_di, probabilities_di = compute_probabilities_digrams(['./txts/LIFE_by_JM_Machado_de_Assis.txt',\n",
    "                                    './txts/THE_ATTENDANT_S_CONFESSION_by_JM_Machado_de_Assis.txt',\n",
    "                                    './txts/THE_FORTUNE_TELLER_by_JM_Machado_de_Assis.txt'])\n",
    "    plt.savefig(pdf, format='pdf')\n",
    "\n",
    "    plt.figure(2)\n",
    "    compute_probabilities_conditional(['./txts/LIFE_by_JM_Machado_de_Assis.txt',\n",
    "                                    './txts/THE_ATTENDANT_S_CONFESSION_by_JM_Machado_de_Assis.txt',\n",
    "                                    './txts/THE_FORTUNE_TELLER_by_JM_Machado_de_Assis.txt'], \n",
    "                                    frequencies_di, axis=0)\n",
    "    plt.savefig(pdf, format='pdf')\n",
    "\n",
    "    plt.figure(3)\n",
    "    compute_probabilities_conditional(['./txts/LIFE_by_JM_Machado_de_Assis.txt',\n",
    "                                    './txts/THE_ATTENDANT_S_CONFESSION_by_JM_Machado_de_Assis.txt',\n",
    "                                    './txts/THE_FORTUNE_TELLER_by_JM_Machado_de_Assis.txt'], \n",
    "                                    frequencies_di, axis=1)\n",
    "    plt.savefig(pdf, format='pdf')\n",
    "\n",
    "    plt.figure(4)\n",
    "    shannon_info = compute_shannon_info_content(probabilities_uni)\n",
    "    plt.savefig(pdf, format='pdf')\n",
    "\n",
    "    compute_entropy(probabilities_uni, shannon_info)\n",
    "\n",
    "    plt.show()\n"
   ]
  },
  {
   "cell_type": "code",
   "execution_count": null,
   "metadata": {
    "collapsed": true
   },
   "outputs": [],
   "source": []
  }
 ],
 "metadata": {
  "kernelspec": {
   "display_name": "Python 3",
   "language": "python",
   "name": "python3"
  },
  "language_info": {
   "codemirror_mode": {
    "name": "ipython",
    "version": 3
   },
   "file_extension": ".py",
   "mimetype": "text/x-python",
   "name": "python",
   "nbconvert_exporter": "python",
   "pygments_lexer": "ipython3",
   "version": "3.4.3+"
  }
 },
 "nbformat": 4,
 "nbformat_minor": 1
}
